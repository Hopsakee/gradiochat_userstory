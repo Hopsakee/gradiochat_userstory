{
 "cells": [
  {
   "cell_type": "code",
   "execution_count": 4,
   "metadata": {},
   "outputs": [],
   "source": [
    "import gradio as gr\n",
    "from gradiochat.config import ModelConfig, ChatAppConfig\n",
    "from gradiochat.gradio_themes import themeWDODelta\n",
    "from gradiochat.ui import create_chat_app\n",
    "from pathlib import Path"
   ]
  },
  {
   "cell_type": "code",
   "execution_count": 2,
   "metadata": {},
   "outputs": [],
   "source": [
    "modelconfig = ModelConfig(\n",
    "    model_name=\"google/gemma-3-27b-pt\",\n",
    "    provider=\"huggingface\",\n",
    "    api_key_env_var=\"HF_API_KEY\"\n",
    ")"
   ]
  },
  {
   "cell_type": "code",
   "execution_count": 5,
   "metadata": {},
   "outputs": [],
   "source": [
    "chatapp = ChatAppConfig(\n",
    "    app_name=\"koe\",\n",
    "    description=\"Een weiland\",\n",
    "    system_prompt=\"Kalfsvlees\",\n",
    "    starter_prompt=\"Weiland gras\",\n",
    "    context_files=[],\n",
    "    model=modelconfig,\n",
    "    theme=themeWDODelta,\n",
    "    logo_path=Path(\"kaas.png\"),\n",
    "    show_system_prompt=True,\n",
    "    show_context=True\n",
    ")"
   ]
  },
  {
   "cell_type": "code",
   "execution_count": 15,
   "metadata": {},
   "outputs": [],
   "source": [
    "chatapp = ChatAppConfig(\n",
    "    app_name=\"koe\",\n",
    "    description=\"Een weiland\",\n",
    "    system_prompt=\"Kalfsvlees\",\n",
    "    model=modelconfig,\n",
    ")"
   ]
  }
 ],
 "metadata": {
  "kernelspec": {
   "display_name": ".venv",
   "language": "python",
   "name": "python3"
  },
  "language_info": {
   "codemirror_mode": {
    "name": "ipython",
    "version": 3
   },
   "file_extension": ".py",
   "mimetype": "text/x-python",
   "name": "python",
   "nbconvert_exporter": "python",
   "pygments_lexer": "ipython3",
   "version": "3.10.12"
  }
 },
 "nbformat": 4,
 "nbformat_minor": 2
}
